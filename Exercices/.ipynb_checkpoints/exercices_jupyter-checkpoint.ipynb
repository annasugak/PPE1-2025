{
 "cells": [
  {
   "cell_type": "code",
   "execution_count": 5,
   "id": "329d965f-04f9-46d5-ab49-118c94623131",
   "metadata": {},
   "outputs": [
    {
     "name": "stdout",
     "output_type": "stream",
     "text": [
      "ciao!\n",
      "15\n",
      "j'ai 8 chat et j'en veux toujours plus!\n"
     ]
    }
   ],
   "source": [
    "print(\"ciao!\")\n",
    "a=12\n",
    "b=3\n",
    "c=5\n",
    "d=a+b\n",
    "print (d);\n",
    "c,f = \"chat\",8\n",
    "print (\"j'ai\",f,c, \"et j'en veux toujours plus!\")"
   ]
  },
  {
   "cell_type": "code",
   "execution_count": 7,
   "id": "1746fa5a-0423-4ceb-b766-1b3aea94344c",
   "metadata": {},
   "outputs": [
    {
     "name": "stdout",
     "output_type": "stream",
     "text": [
      "validé\n"
     ]
    }
   ],
   "source": [
    "if a>10:   \n",
    "    print (\"validé\") #indentation\n",
    "else:\n",
    "    print (\"rattrapage\")"
   ]
  },
  {
   "cell_type": "code",
   "execution_count": 13,
   "id": "c5245baf-1edd-4787-9b82-fd5f0b002055",
   "metadata": {},
   "outputs": [
    {
     "name": "stdout",
     "output_type": "stream",
     "text": [
      "ça va pas !\n"
     ]
    }
   ],
   "source": [
    "if 1 > 2:\n",
    " print(\"le premier nombre est plus grand\") \n",
    "else:\n",
    "    print (\"ça va pas !\")\n",
    "    "
   ]
  },
  {
   "cell_type": "code",
   "execution_count": 15,
   "id": "e945b0ce-4268-439d-a312-3b34acc9ced6",
   "metadata": {},
   "outputs": [
    {
     "name": "stdout",
     "output_type": "stream",
     "text": [
      "5 5 5.0\n"
     ]
    }
   ],
   "source": [
    "x = str(5)   # x sera '5', les chaînes de caractères sont toujours entre guillemets\n",
    "y = int(5)    # y sera un entier (il l'était déjà!)\n",
    "z = float(5)  # z sera 5.0 \n",
    "print (x,y,z)"
   ]
  },
  {
   "cell_type": "code",
   "execution_count": 17,
   "id": "eeaf5956-2ddb-4339-93e0-4c55e9511c56",
   "metadata": {},
   "outputs": [
    {
     "name": "stdout",
     "output_type": "stream",
     "text": [
      "3\n"
     ]
    }
   ],
   "source": [
    "f=3.99\n",
    "e = int(f) #transforme un décimal (ligne 16) en un entier\n",
    "print (e)"
   ]
  },
  {
   "cell_type": "code",
   "execution_count": 18,
   "id": "3d36887b-de8f-412e-bcbc-e65b6c8b7067",
   "metadata": {},
   "outputs": [
    {
     "name": "stdout",
     "output_type": "stream",
     "text": [
      "<class 'int'>\n",
      "<class 'str'>\n",
      "<class 'float'>\n",
      "<class 'bool'>\n",
      "<class 'list'>\n",
      "<class 'dict'>\n"
     ]
    }
   ],
   "source": [
    "x = 5\n",
    "y = \"Jacques\"\n",
    "z= 3.14\n",
    "q=True\n",
    "r=[3,\"pommes\",'poires',False,3.14]\n",
    "p = {\"Arras\" : \"Pas-de-Calais\", \"Nice\" : \"Alpes Maritimes\",\"Montpellier\" : \"Hérault\"}\n",
    "print(type(x))\n",
    "print(type(y)) \n",
    "print(type(z)) \n",
    "print(type(q)) \n",
    "print(type(r)) \n",
    "print(type(p)) "
   ]
  },
  {
   "cell_type": "code",
   "execution_count": 19,
   "id": "08131702-1a57-40e2-85cb-e09385c6b4c2",
   "metadata": {},
   "outputs": [
    {
     "name": "stdout",
     "output_type": "stream",
     "text": [
      "9\n",
      "JacquesJacquesJacques\n",
      "9.42\n"
     ]
    }
   ],
   "source": [
    "print (3*3)\n",
    "print (3*y)\n",
    "print (3*z)"
   ]
  },
  {
   "cell_type": "code",
   "execution_count": 21,
   "id": "f9007f1e-ad05-466b-b594-2f7bd714bce0",
   "metadata": {},
   "outputs": [
    {
     "name": "stdout",
     "output_type": "stream",
     "text": [
      "30\n",
      "25\n"
     ]
    }
   ],
   "source": [
    "x = 5\n",
    "\n",
    "def fonction():   #observer la variable x à l'extérieur et à l'intérieur d'une fonction\n",
    "  x = 10\n",
    "  print(20 + x)\n",
    "\n",
    "fonction()\n",
    "\n",
    "print(20 + x)"
   ]
  },
  {
   "cell_type": "code",
   "execution_count": 23,
   "id": "3cf08c39-2a47-47a4-b44d-b6e440675c6b",
   "metadata": {},
   "outputs": [
    {
     "name": "stdout",
     "output_type": "stream",
     "text": [
      "6\n"
     ]
    }
   ],
   "source": [
    "import random\n",
    "\n",
    "print(random.randrange(1, 10)) #vous pouvez changer les valeurs entre parenthèses et rééxecuter la cellule"
   ]
  },
  {
   "cell_type": "code",
   "execution_count": 25,
   "id": "734c7100-16e9-4c60-aacc-49f6e1608d92",
   "metadata": {},
   "outputs": [
    {
     "name": "stdout",
     "output_type": "stream",
     "text": [
      "b\n"
     ]
    }
   ],
   "source": [
    "a = \"Sorbonne\"\n",
    "print(a[3])  #la valeur entre crochets indique la quatrième lettre. l'index commence à 0"
   ]
  },
  {
   "cell_type": "code",
   "execution_count": 26,
   "id": "bfa72a72-8938-4c2d-a642-29e6fc013fc4",
   "metadata": {},
   "outputs": [
    {
     "name": "stdout",
     "output_type": "stream",
     "text": [
      "S\n",
      "o\n",
      "r\n",
      "b\n",
      "o\n",
      "n\n",
      "n\n",
      "e\n"
     ]
    }
   ],
   "source": [
    "for L in \"Sorbonne\": # ça aurait pu être for x in Sorbonne print (x)\n",
    "  print(L)"
   ]
  },
  {
   "cell_type": "code",
   "execution_count": 43,
   "id": "6a081cef-af95-4ae6-bec5-66fc5da84e83",
   "metadata": {},
   "outputs": [
    {
     "name": "stdout",
     "output_type": "stream",
     "text": [
      "8\n"
     ]
    }
   ],
   "source": [
    "print(len(a))"
   ]
  },
  {
   "cell_type": "code",
   "execution_count": 27,
   "id": "c5f9d0b4-b665-4eb2-b1d3-c2d2d61bfec9",
   "metadata": {},
   "outputs": [
    {
     "name": "stdout",
     "output_type": "stream",
     "text": [
      "45\n"
     ]
    }
   ],
   "source": [
    "z=\"ça aurait pu être for x in Sorbonne print (x)\"\n",
    "print (len(z))"
   ]
  },
  {
   "cell_type": "code",
   "execution_count": 32,
   "id": "e2be0839-3521-4752-9c4a-5d2c0a898418",
   "metadata": {},
   "outputs": [
    {
     "name": "stdout",
     "output_type": "stream",
     "text": [
      "1 nombre impair\n",
      "2 nombre pair\n",
      "3 nombre impair\n",
      "4 nombre pair\n",
      "5 nombre impair\n",
      "6 nombre pair\n",
      "7 nombre impair\n",
      "8 nombre pair\n",
      "9 nombre impair\n",
      "10 nombre pair\n",
      "11 nombre impair\n",
      "12 nombre pair\n",
      "13 nombre impair\n",
      "14 nombre pair\n",
      "15 nombre impair\n",
      "9999838628642 nombre pair\n"
     ]
    }
   ],
   "source": [
    "for N in [1,2,3,4,5,6,7,8,9,10,11,12,13,14,15,9999838628642]:\n",
    "    if N%2==0:\n",
    "        print (N,\"nombre pair\")\n",
    "    else:\n",
    "        print (N,\"nombre impair\")\n",
    "    "
   ]
  },
  {
   "cell_type": "code",
   "execution_count": 33,
   "id": "e869fe31-7a6b-4d0f-94aa-6701263787db",
   "metadata": {},
   "outputs": [
    {
     "name": "stdout",
     "output_type": "stream",
     "text": [
      "oui\n"
     ]
    }
   ],
   "source": [
    "texte = \"certains cours sont sympas, d'autres moins\"\n",
    "if \"cours\" in texte:\n",
    "  print(\"oui\")\n",
    "else:\n",
    "    print (\"non\")"
   ]
  },
  {
   "cell_type": "code",
   "execution_count": 34,
   "id": "0243f011-f4d9-467a-814a-6c3079307431",
   "metadata": {},
   "outputs": [
    {
     "name": "stdout",
     "output_type": "stream",
     "text": [
      "b est plus petit a\n"
     ]
    }
   ],
   "source": [
    "a = 20\n",
    "b = 3\n",
    "\n",
    "if b > a:\n",
    "  print(\"b est plus grand que a\")\n",
    "else:\n",
    "  print(\"b est plus petit a\") "
   ]
  },
  {
   "cell_type": "code",
   "execution_count": 35,
   "id": "1d30e8c9-507c-4e9c-839a-f75df965edff",
   "metadata": {},
   "outputs": [
    {
     "name": "stdout",
     "output_type": "stream",
     "text": [
      "Douai\n",
      "Nancy\n",
      "Lille\n",
      "Arras\n",
      "Nice\n",
      "Limoges\n"
     ]
    }
   ],
   "source": [
    "villes = [\"Douai\", \"Nancy\", \"Lille\",\"Arras\",\"Nice\",\"Limoges\"] #liste\n",
    "for x in villes: #boucle for\n",
    "  print(x)"
   ]
  },
  {
   "cell_type": "code",
   "execution_count": 36,
   "id": "660754b6-c4ad-41b6-a008-82f733e3d03a",
   "metadata": {},
   "outputs": [
    {
     "name": "stdout",
     "output_type": "stream",
     "text": [
      "Douai\n",
      "Nancy\n",
      "Lille\n"
     ]
    }
   ],
   "source": [
    "villes = [\"Douai\", \"Nancy\", \"Lille\",\"Arras\",\"Nice\",\"Limoges\"] #liste\n",
    "for x in villes: #boucle for\n",
    "    if x == \"Arras\":\n",
    "     break\n",
    "    print(x) #attention à l'indentation"
   ]
  },
  {
   "cell_type": "code",
   "execution_count": null,
   "id": "535b1177-cf8e-49f9-8345-29a2dddd90f1",
   "metadata": {},
   "outputs": [],
   "source": []
  }
 ],
 "metadata": {
  "kernelspec": {
   "display_name": "Python [conda env:base] *",
   "language": "python",
   "name": "conda-base-py"
  },
  "language_info": {
   "codemirror_mode": {
    "name": "ipython",
    "version": 3
   },
   "file_extension": ".py",
   "mimetype": "text/x-python",
   "name": "python",
   "nbconvert_exporter": "python",
   "pygments_lexer": "ipython3",
   "version": "3.11.4"
  }
 },
 "nbformat": 4,
 "nbformat_minor": 5
}
