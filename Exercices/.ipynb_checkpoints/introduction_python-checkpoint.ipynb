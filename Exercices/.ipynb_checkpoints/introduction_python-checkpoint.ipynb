{
 "cells": [
  {
   "cell_type": "code",
   "execution_count": 1,
   "id": "5b990a3b-f44f-403c-be9b-813bcab1f525",
   "metadata": {},
   "outputs": [
    {
     "name": "stdout",
     "output_type": "stream",
     "text": [
      "C:\\Users\\andre\\anaconda3\\python.exe\n",
      "3.11.4 | packaged by Anaconda, Inc. | (main, Jul  5 2023, 13:38:37) [MSC v.1916 64 bit (AMD64)]\n",
      "sys.version_info(major=3, minor=11, micro=4, releaselevel='final', serial=0)\n"
     ]
    }
   ],
   "source": [
    "#vérifier la version de Python\n",
    "import sys\n",
    "print(sys.executable)\n",
    "print(sys.version)\n",
    "print(sys.version_info)"
   ]
  },
  {
   "cell_type": "code",
   "execution_count": 2,
   "id": "894facf6-fce6-4c51-bcb3-e6db1c130d06",
   "metadata": {},
   "outputs": [],
   "source": [
    "# Exemple 1 : ce code sert à ....\n",
    "s = 1  # et je définis ici une variable s qui vaut 1\n",
    "# ... attention au contre-exmple ci-dessous\n",
    "text = \"# Ceci n'est pas un commentaire car entre guillemet et donc un text.\""
   ]
  },
  {
   "cell_type": "code",
   "execution_count": 3,
   "id": "bac85dd2-4169-462d-bca4-8c5738730f5b",
   "metadata": {},
   "outputs": [
    {
     "data": {
      "text/plain": [
       "int"
      ]
     },
     "execution_count": 3,
     "metadata": {},
     "output_type": "execute_result"
    }
   ],
   "source": [
    "#Pour connaître le type d’une donnée ou le type de la valeur d’une variable, il suffit d’utiliser la fonction type().\n",
    "type(15)"
   ]
  },
  {
   "cell_type": "code",
   "execution_count": 4,
   "id": "ca704730-a796-4b14-8144-b69c37061bf3",
   "metadata": {},
   "outputs": [
    {
     "data": {
      "text/plain": [
       "int"
      ]
     },
     "execution_count": 4,
     "metadata": {},
     "output_type": "execute_result"
    }
   ],
   "source": [
    "# Le type int (entier)\n",
    "x = 18\n",
    "type(x)"
   ]
  },
  {
   "cell_type": "code",
   "execution_count": 5,
   "id": "af7760e9-a81e-44db-90fd-7463e13916bd",
   "metadata": {},
   "outputs": [
    {
     "data": {
      "text/plain": [
       "float"
      ]
     },
     "execution_count": 5,
     "metadata": {},
     "output_type": "execute_result"
    }
   ],
   "source": [
    "# Le type float (flottant)\n",
    "x = 18.18\n",
    "type(x)"
   ]
  },
  {
   "cell_type": "code",
   "execution_count": 6,
   "id": "f262661a-893c-4add-8cf7-cc44b4aa2cdc",
   "metadata": {},
   "outputs": [
    {
     "data": {
      "text/plain": [
       "str"
      ]
     },
     "execution_count": 6,
     "metadata": {},
     "output_type": "execute_result"
    }
   ],
   "source": [
    "#Le type str (chaîne de caractères)\n",
    "x = \"toto\"\n",
    "type(x)"
   ]
  },
  {
   "cell_type": "code",
   "execution_count": 7,
   "id": "9dd0ee44-f283-4221-9df0-196dcdde6494",
   "metadata": {},
   "outputs": [
    {
     "data": {
      "text/plain": [
       "bool"
      ]
     },
     "execution_count": 7,
     "metadata": {},
     "output_type": "execute_result"
    }
   ],
   "source": [
    "#Le type bool (booléen)\n",
    "x = True\n",
    "type(x)"
   ]
  },
  {
   "cell_type": "code",
   "execution_count": 5,
   "id": "6167b3c6-0a2c-4e24-8b7e-974ac65690ad",
   "metadata": {},
   "outputs": [],
   "source": [
    "y = not(x)"
   ]
  },
  {
   "cell_type": "code",
   "execution_count": 6,
   "id": "7152ec08-d5f6-4800-b107-0372f89e995d",
   "metadata": {},
   "outputs": [
    {
     "data": {
      "text/plain": [
       "False"
      ]
     },
     "execution_count": 6,
     "metadata": {},
     "output_type": "execute_result"
    }
   ],
   "source": [
    "y"
   ]
  },
  {
   "cell_type": "code",
   "execution_count": 10,
   "id": "aa73f77d-6b32-4485-9267-f75d9f56c156",
   "metadata": {},
   "outputs": [
    {
     "data": {
      "text/plain": [
       "complex"
      ]
     },
     "execution_count": 10,
     "metadata": {},
     "output_type": "execute_result"
    }
   ],
   "source": [
    "#Le type complex (complexe)\n",
    "x = 9 + 7j\n",
    "type(x)"
   ]
  },
  {
   "cell_type": "code",
   "execution_count": 7,
   "id": "ee78a361-4b4f-48d2-99f3-267d491c689f",
   "metadata": {},
   "outputs": [
    {
     "data": {
      "text/plain": [
       "18"
      ]
     },
     "execution_count": 7,
     "metadata": {},
     "output_type": "execute_result"
    }
   ],
   "source": [
    "x"
   ]
  },
  {
   "cell_type": "code",
   "execution_count": 8,
   "id": "34c8bb11-fc10-4915-9fde-fef8ed9a17c2",
   "metadata": {},
   "outputs": [],
   "source": [
    "#attention x prend la denière valeur du code que vous avez execute !"
   ]
  },
  {
   "cell_type": "code",
   "execution_count": 10,
   "id": "c3aef791-4820-4a2a-b19c-ffff15425095",
   "metadata": {},
   "outputs": [
    {
     "ename": "SyntaxError",
     "evalue": "unterminated string literal (detected at line 2) (512569883.py, line 2)",
     "output_type": "error",
     "traceback": [
      "\u001b[1;36m  Cell \u001b[1;32mIn[10], line 2\u001b[1;36m\u001b[0m\n\u001b[1;33m    C=\"\u001b[0m\n\u001b[1;37m      ^\u001b[0m\n\u001b[1;31mSyntaxError\u001b[0m\u001b[1;31m:\u001b[0m unterminated string literal (detected at line 2)\n"
     ]
    }
   ],
   "source": [
    "# si vous oubliez de définir correctement une variable !\n",
    "C=\""
   ]
  },
  {
   "cell_type": "code",
   "execution_count": 11,
   "id": "2545f4e0-5e9b-4b6e-b07b-d6333b65422a",
   "metadata": {},
   "outputs": [
    {
     "data": {
      "text/plain": [
       "tuple"
      ]
     },
     "execution_count": 11,
     "metadata": {},
     "output_type": "execute_result"
    }
   ],
   "source": [
    "#tuples\n",
    "a = (3, 4, 7)\n",
    "type(a)"
   ]
  },
  {
   "cell_type": "code",
   "execution_count": 12,
   "id": "d1f0bb81-3e38-40c2-84d1-892eb46b47be",
   "metadata": {},
   "outputs": [],
   "source": [
    "# Les listes\n",
    "a = [] # declaration d'une list vide\n",
    "animaux = [\"girafe\", \"tigre\", \"singe\", \"souris\"]\n",
    "tailles = [5, 2.5, 1.75, 0.15]\n",
    "mixte = [\"girafe\", 8, \"souris\", 0.18]"
   ]
  },
  {
   "cell_type": "code",
   "execution_count": 13,
   "id": "3500bf1e-ef6e-4de9-97e6-fc4ee92c699e",
   "metadata": {},
   "outputs": [
    {
     "data": {
      "text/plain": [
       "'girafe'"
      ]
     },
     "execution_count": 13,
     "metadata": {},
     "output_type": "execute_result"
    }
   ],
   "source": [
    "mixte[0]"
   ]
  },
  {
   "cell_type": "code",
   "execution_count": 14,
   "id": "ad512b53-abab-490d-b707-a6ce1439246a",
   "metadata": {},
   "outputs": [
    {
     "data": {
      "text/plain": [
       "4"
      ]
     },
     "execution_count": 14,
     "metadata": {},
     "output_type": "execute_result"
    }
   ],
   "source": [
    "#'instruction len() vous permet de connaître la longueur d'une liste\n",
    "len(animaux)"
   ]
  },
  {
   "cell_type": "code",
   "execution_count": 20,
   "id": "e2c57150-57b7-4cc5-b5e7-15307b89928b",
   "metadata": {},
   "outputs": [
    {
     "ename": "IndexError",
     "evalue": "list index out of range",
     "output_type": "error",
     "traceback": [
      "\u001b[1;31m---------------------------------------------------------------------------\u001b[0m",
      "\u001b[1;31mIndexError\u001b[0m                                Traceback (most recent call last)",
      "Cell \u001b[1;32mIn[20], line 1\u001b[0m\n\u001b[1;32m----> 1\u001b[0m animaux[\u001b[38;5;241m4\u001b[39m]\n",
      "\u001b[1;31mIndexError\u001b[0m: list index out of range"
     ]
    }
   ],
   "source": [
    "animaux[4]"
   ]
  },
  {
   "cell_type": "code",
   "execution_count": 21,
   "id": "8c062f71-aeaa-4a5f-b638-fc4652de33e3",
   "metadata": {},
   "outputs": [
    {
     "data": {
      "text/plain": [
       "'souris'"
      ]
     },
     "execution_count": 21,
     "metadata": {},
     "output_type": "execute_result"
    }
   ],
   "source": [
    "animaux[-1]"
   ]
  },
  {
   "cell_type": "code",
   "execution_count": 15,
   "id": "1ff8133c-8ce0-47b3-8a63-2038ec042cc1",
   "metadata": {},
   "outputs": [],
   "source": [
    "#attention l'indice des listes commence à zero !"
   ]
  },
  {
   "cell_type": "code",
   "execution_count": 16,
   "id": "84b18343-3604-4063-a96c-732282270068",
   "metadata": {},
   "outputs": [
    {
     "data": {
      "text/plain": [
       "['girafe', 'tigre', 'singe', 'souris', 'lionne']"
      ]
     },
     "execution_count": 16,
     "metadata": {},
     "output_type": "execute_result"
    }
   ],
   "source": [
    "animaux+[\"lionne\"]"
   ]
  },
  {
   "cell_type": "code",
   "execution_count": 17,
   "id": "7265014a-2cd5-4ad6-9894-797e8b2189bc",
   "metadata": {},
   "outputs": [
    {
     "data": {
      "text/plain": [
       "['girafe', 'tigre', 'singe', 'souris']"
      ]
     },
     "execution_count": 17,
     "metadata": {},
     "output_type": "execute_result"
    }
   ],
   "source": [
    "animaux"
   ]
  },
  {
   "cell_type": "code",
   "execution_count": 18,
   "id": "bf8039f3-42b6-4052-8e7c-a2d5cdf7ec53",
   "metadata": {},
   "outputs": [],
   "source": [
    "animaux=animaux+[\"lionne\"]"
   ]
  },
  {
   "cell_type": "code",
   "execution_count": 19,
   "id": "02335adc-dd9b-47dc-b0bf-384dc33f0179",
   "metadata": {},
   "outputs": [
    {
     "data": {
      "text/plain": [
       "['girafe', 'tigre', 'singe', 'souris', 'lionne']"
      ]
     },
     "execution_count": 19,
     "metadata": {},
     "output_type": "execute_result"
    }
   ],
   "source": [
    "animaux"
   ]
  },
  {
   "cell_type": "code",
   "execution_count": 20,
   "id": "e9e55001-88c5-44ec-98d3-192dd567e845",
   "metadata": {},
   "outputs": [],
   "source": [
    "animaux.append(45)"
   ]
  },
  {
   "cell_type": "code",
   "execution_count": 21,
   "id": "b437867d-d589-4ae1-83c3-d8fedd14cf29",
   "metadata": {},
   "outputs": [
    {
     "data": {
      "text/plain": [
       "['girafe', 'tigre', 'singe', 'souris', 'lionne', 45]"
      ]
     },
     "execution_count": 21,
     "metadata": {},
     "output_type": "execute_result"
    }
   ],
   "source": [
    "animaux"
   ]
  },
  {
   "cell_type": "code",
   "execution_count": 22,
   "id": "7546e65c-2456-474f-afaa-6248a3437df0",
   "metadata": {},
   "outputs": [
    {
     "data": {
      "text/plain": [
       "45"
      ]
     },
     "execution_count": 22,
     "metadata": {},
     "output_type": "execute_result"
    }
   ],
   "source": [
    "animaux[-1]"
   ]
  },
  {
   "cell_type": "code",
   "execution_count": 23,
   "id": "59c935d3-c4d4-4b7b-bcb2-9ce6958b7926",
   "metadata": {},
   "outputs": [
    {
     "data": {
      "text/plain": [
       "['tigre', 'singe', 'souris']"
      ]
     },
     "execution_count": 23,
     "metadata": {},
     "output_type": "execute_result"
    }
   ],
   "source": [
    "# une tranche de liste\n",
    "animaux[1:4]"
   ]
  },
  {
   "cell_type": "code",
   "execution_count": 24,
   "id": "af4d9e26-9579-48dd-ae68-1dd113ce9d13",
   "metadata": {},
   "outputs": [],
   "source": [
    "# Liste de listes\n",
    "enclos1 = [\"girafe\", 4]\n",
    "enclos2 = [\"tigre\", 2]\n",
    "enclos3 = [\"singe\", 5]\n",
    "zoo = [enclos1, enclos2, enclos3]"
   ]
  },
  {
   "cell_type": "code",
   "execution_count": 25,
   "id": "6f3afdca-817c-41e6-902f-8e7b43dbf071",
   "metadata": {},
   "outputs": [
    {
     "data": {
      "text/plain": [
       "[['girafe', 4], ['tigre', 2], ['singe', 5]]"
      ]
     },
     "execution_count": 25,
     "metadata": {},
     "output_type": "execute_result"
    }
   ],
   "source": [
    "zoo"
   ]
  },
  {
   "cell_type": "code",
   "execution_count": 26,
   "id": "28c40fbe-26f8-418d-ab8c-e82f78715bcf",
   "metadata": {},
   "outputs": [],
   "source": [
    "# Dictionnaires\n",
    "dict_test = {\"voiture\": \"quatre roues\", \"vélo\": \"deux roues\"}"
   ]
  },
  {
   "cell_type": "code",
   "execution_count": 27,
   "id": "27a12ee8-5543-449d-b71c-778452dff41c",
   "metadata": {},
   "outputs": [
    {
     "data": {
      "text/plain": [
       "dict"
      ]
     },
     "execution_count": 27,
     "metadata": {},
     "output_type": "execute_result"
    }
   ],
   "source": [
    "type(dict_test)"
   ]
  },
  {
   "cell_type": "code",
   "execution_count": 28,
   "id": "6a368908-0e23-4cdb-b939-24468fe0e2f0",
   "metadata": {},
   "outputs": [
    {
     "data": {
      "text/plain": [
       "'quatre roues'"
      ]
     },
     "execution_count": 28,
     "metadata": {},
     "output_type": "execute_result"
    }
   ],
   "source": [
    "#On accède à une valeur du dictionnaire en utilisant la clé entourée par des crochets avec la syntaxe suivante\n",
    "dict_test [\"voiture\"]"
   ]
  },
  {
   "cell_type": "code",
   "execution_count": 29,
   "id": "2b341115-373d-4c55-aad1-5a498abd5ee6",
   "metadata": {},
   "outputs": [],
   "source": [
    "#Pour ajouter un élément à un dictionnaire, il suffit d’affecter une valeur pour la nouvelle clé.\n",
    "dict_test[\"bateau\"]=\"ocean\"\n"
   ]
  },
  {
   "cell_type": "code",
   "execution_count": 30,
   "id": "8d7631f0-1aae-4682-b8db-658b40a760ab",
   "metadata": {},
   "outputs": [
    {
     "data": {
      "text/plain": [
       "{'voiture': 'quatre roues', 'vélo': 'deux roues', 'bateau': 'ocean'}"
      ]
     },
     "execution_count": 30,
     "metadata": {},
     "output_type": "execute_result"
    }
   ],
   "source": [
    "dict_test"
   ]
  },
  {
   "cell_type": "code",
   "execution_count": 31,
   "id": "2f288f60-679f-4d7a-8325-3ab3a381b66e",
   "metadata": {},
   "outputs": [],
   "source": [
    "#pour parcourir un dictionnaire"
   ]
  },
  {
   "cell_type": "code",
   "execution_count": 32,
   "id": "ba49d5d1-a72d-43e4-88cf-17ad770c2c11",
   "metadata": {},
   "outputs": [
    {
     "name": "stdout",
     "output_type": "stream",
     "text": [
      "l'élément de clé voiture vaut quatre roues\n",
      "l'élément de clé vélo vaut deux roues\n",
      "l'élément de clé bateau vaut ocean\n"
     ]
    }
   ],
   "source": [
    "for cle, valeur in dict_test.items():\n",
    "        print(\"l'élément de clé\", cle, \"vaut\", valeur)"
   ]
  },
  {
   "cell_type": "code",
   "execution_count": 33,
   "id": "8d20d61c-ad64-4bd4-926c-bb7a2d705ed6",
   "metadata": {},
   "outputs": [
    {
     "name": "stdout",
     "output_type": "stream",
     "text": [
      "Requirement already satisfied: pandas in c:\\users\\andre\\anaconda3\\lib\\site-packages (1.5.3)\n",
      "Requirement already satisfied: python-dateutil>=2.8.1 in c:\\users\\andre\\anaconda3\\lib\\site-packages (from pandas) (2.8.2)\n",
      "Requirement already satisfied: pytz>=2020.1 in c:\\users\\andre\\anaconda3\\lib\\site-packages (from pandas) (2022.7)\n",
      "Requirement already satisfied: numpy>=1.21.0 in c:\\users\\andre\\anaconda3\\lib\\site-packages (from pandas) (1.24.3)\n",
      "Requirement already satisfied: six>=1.5 in c:\\users\\andre\\anaconda3\\lib\\site-packages (from python-dateutil>=2.8.1->pandas) (1.16.0)\n",
      "Note: you may need to restart the kernel to use updated packages.\n"
     ]
    }
   ],
   "source": [
    "pip install pandas"
   ]
  },
  {
   "cell_type": "code",
   "execution_count": 35,
   "id": "060328c2-7bcd-4e4e-a874-b29546b5758a",
   "metadata": {},
   "outputs": [],
   "source": [
    "import numpy as np # algèbre\n",
    "import os # operating system, système d'exploitation. pour accèder à l'arborescences (dossiers,_sous-dossiers..)\n",
    "import pandas as pd # data processing, CSV file I/O (e.g. pd.read_csv)"
   ]
  },
  {
   "cell_type": "code",
   "execution_count": 36,
   "id": "b850a6da-221f-4166-992c-3337662191c2",
   "metadata": {},
   "outputs": [
    {
     "name": "stdout",
     "output_type": "stream",
     "text": [
      "There are 1000 rows and 4 columns\n"
     ]
    }
   ],
   "source": [
    "# Bitcoin_tweets.csv pourrait avoir plus de 1000 lignes, mais nous nous contentons d'afficher les milles premières\n",
    "nRowsRead = 1000 # spécifier 'None' si on souhaite lire le fichier entier\n",
    "# étape 1: mettre le chemin du fichier\n",
    "df = pd.read_csv('Bitcoin_data.csv', delimiter=',', nrows = nRowsRead) #spécifier le délimiteur, comme quand on ouvre ce fichier avec libreofficeCalc\n",
    "df.dataframeName = 'Bitcoin_data.csv'\n",
    "nRow, nCol = df.shape #row = lignes, comumns = colonnes\n",
    "print(f'There are {nRow} rows and {nCol} columns')"
   ]
  },
  {
   "cell_type": "code",
   "execution_count": 37,
   "id": "bc72afb6-0b44-4e39-acab-18ce08f0c32e",
   "metadata": {},
   "outputs": [
    {
     "data": {
      "text/html": [
       "<div>\n",
       "<style scoped>\n",
       "    .dataframe tbody tr th:only-of-type {\n",
       "        vertical-align: middle;\n",
       "    }\n",
       "\n",
       "    .dataframe tbody tr th {\n",
       "        vertical-align: top;\n",
       "    }\n",
       "\n",
       "    .dataframe thead th {\n",
       "        text-align: right;\n",
       "    }\n",
       "</style>\n",
       "<table border=\"1\" class=\"dataframe\">\n",
       "  <thead>\n",
       "    <tr style=\"text-align: right;\">\n",
       "      <th></th>\n",
       "      <th>Unnamed: 0</th>\n",
       "      <th>Date</th>\n",
       "      <th>User</th>\n",
       "      <th>Tweet</th>\n",
       "    </tr>\n",
       "  </thead>\n",
       "  <tbody>\n",
       "    <tr>\n",
       "      <th>0</th>\n",
       "      <td>0</td>\n",
       "      <td>2023-01-26 22:02:34+00:00</td>\n",
       "      <td>SeanButta</td>\n",
       "      <td>Stacks' network usage was ⬆️ in Q4, resulting ...</td>\n",
       "    </tr>\n",
       "    <tr>\n",
       "      <th>1</th>\n",
       "      <td>1</td>\n",
       "      <td>2023-01-26 17:37:38+00:00</td>\n",
       "      <td>yfinanceplus</td>\n",
       "      <td>The crypto market is having a (majority) green...</td>\n",
       "    </tr>\n",
       "    <tr>\n",
       "      <th>2</th>\n",
       "      <td>2</td>\n",
       "      <td>2023-01-26 16:50:14+00:00</td>\n",
       "      <td>ImrichKasperko</td>\n",
       "      <td>@KaddeXofficial @Bitcoin @ethereum @kadena_io ...</td>\n",
       "    </tr>\n",
       "    <tr>\n",
       "      <th>3</th>\n",
       "      <td>3</td>\n",
       "      <td>2023-01-26 16:48:07+00:00</td>\n",
       "      <td>KaddeXofficial</td>\n",
       "      <td>The Blockchain evolution 💻\\n\\n2009 @bitcoin:\\n...</td>\n",
       "    </tr>\n",
       "    <tr>\n",
       "      <th>4</th>\n",
       "      <td>4</td>\n",
       "      <td>2023-01-26 14:04:04+00:00</td>\n",
       "      <td>StephaneDeBaets</td>\n",
       "      <td>Seems like the regulatory pendulum is about to...</td>\n",
       "    </tr>\n",
       "  </tbody>\n",
       "</table>\n",
       "</div>"
      ],
      "text/plain": [
       "   Unnamed: 0                       Date             User  \\\n",
       "0           0  2023-01-26 22:02:34+00:00        SeanButta   \n",
       "1           1  2023-01-26 17:37:38+00:00     yfinanceplus   \n",
       "2           2  2023-01-26 16:50:14+00:00   ImrichKasperko   \n",
       "3           3  2023-01-26 16:48:07+00:00   KaddeXofficial   \n",
       "4           4  2023-01-26 14:04:04+00:00  StephaneDeBaets   \n",
       "\n",
       "                                               Tweet  \n",
       "0  Stacks' network usage was ⬆️ in Q4, resulting ...  \n",
       "1  The crypto market is having a (majority) green...  \n",
       "2  @KaddeXofficial @Bitcoin @ethereum @kadena_io ...  \n",
       "3  The Blockchain evolution 💻\\n\\n2009 @bitcoin:\\n...  \n",
       "4  Seems like the regulatory pendulum is about to...  "
      ]
     },
     "execution_count": 37,
     "metadata": {},
     "output_type": "execute_result"
    }
   ],
   "source": [
    "df.head(5)"
   ]
  },
  {
   "cell_type": "code",
   "execution_count": 38,
   "id": "9e0f6fa9-8e52-4b11-b830-4c876cb702d4",
   "metadata": {},
   "outputs": [],
   "source": [
    "df.drop(columns=df.columns[0],axis=1,inplace=True) #drop = se débarasser d'une colonne\n"
   ]
  },
  {
   "cell_type": "code",
   "execution_count": 39,
   "id": "1a5187ce-1801-4616-8f22-79d42ffbaafa",
   "metadata": {},
   "outputs": [
    {
     "data": {
      "text/html": [
       "<div>\n",
       "<style scoped>\n",
       "    .dataframe tbody tr th:only-of-type {\n",
       "        vertical-align: middle;\n",
       "    }\n",
       "\n",
       "    .dataframe tbody tr th {\n",
       "        vertical-align: top;\n",
       "    }\n",
       "\n",
       "    .dataframe thead th {\n",
       "        text-align: right;\n",
       "    }\n",
       "</style>\n",
       "<table border=\"1\" class=\"dataframe\">\n",
       "  <thead>\n",
       "    <tr style=\"text-align: right;\">\n",
       "      <th></th>\n",
       "      <th>Date</th>\n",
       "      <th>User</th>\n",
       "      <th>Tweet</th>\n",
       "    </tr>\n",
       "  </thead>\n",
       "  <tbody>\n",
       "    <tr>\n",
       "      <th>0</th>\n",
       "      <td>2023-01-26 22:02:34+00:00</td>\n",
       "      <td>SeanButta</td>\n",
       "      <td>Stacks' network usage was ⬆️ in Q4, resulting ...</td>\n",
       "    </tr>\n",
       "    <tr>\n",
       "      <th>1</th>\n",
       "      <td>2023-01-26 17:37:38+00:00</td>\n",
       "      <td>yfinanceplus</td>\n",
       "      <td>The crypto market is having a (majority) green...</td>\n",
       "    </tr>\n",
       "    <tr>\n",
       "      <th>2</th>\n",
       "      <td>2023-01-26 16:50:14+00:00</td>\n",
       "      <td>ImrichKasperko</td>\n",
       "      <td>@KaddeXofficial @Bitcoin @ethereum @kadena_io ...</td>\n",
       "    </tr>\n",
       "    <tr>\n",
       "      <th>3</th>\n",
       "      <td>2023-01-26 16:48:07+00:00</td>\n",
       "      <td>KaddeXofficial</td>\n",
       "      <td>The Blockchain evolution 💻\\n\\n2009 @bitcoin:\\n...</td>\n",
       "    </tr>\n",
       "    <tr>\n",
       "      <th>4</th>\n",
       "      <td>2023-01-26 14:04:04+00:00</td>\n",
       "      <td>StephaneDeBaets</td>\n",
       "      <td>Seems like the regulatory pendulum is about to...</td>\n",
       "    </tr>\n",
       "  </tbody>\n",
       "</table>\n",
       "</div>"
      ],
      "text/plain": [
       "                        Date             User  \\\n",
       "0  2023-01-26 22:02:34+00:00        SeanButta   \n",
       "1  2023-01-26 17:37:38+00:00     yfinanceplus   \n",
       "2  2023-01-26 16:50:14+00:00   ImrichKasperko   \n",
       "3  2023-01-26 16:48:07+00:00   KaddeXofficial   \n",
       "4  2023-01-26 14:04:04+00:00  StephaneDeBaets   \n",
       "\n",
       "                                               Tweet  \n",
       "0  Stacks' network usage was ⬆️ in Q4, resulting ...  \n",
       "1  The crypto market is having a (majority) green...  \n",
       "2  @KaddeXofficial @Bitcoin @ethereum @kadena_io ...  \n",
       "3  The Blockchain evolution 💻\\n\\n2009 @bitcoin:\\n...  \n",
       "4  Seems like the regulatory pendulum is about to...  "
      ]
     },
     "execution_count": 39,
     "metadata": {},
     "output_type": "execute_result"
    }
   ],
   "source": [
    "df.head(5)"
   ]
  },
  {
   "cell_type": "code",
   "execution_count": 40,
   "id": "b346afec-bed4-4d05-b489-a602f841f774",
   "metadata": {},
   "outputs": [
    {
     "name": "stdout",
     "output_type": "stream",
     "text": [
      "Date                             2023-01-26 22:02:34+00:00\n",
      "User                                             SeanButta\n",
      "Tweet    Stacks' network usage was ⬆️ in Q4, resulting ...\n",
      "Name: 0, dtype: object\n"
     ]
    }
   ],
   "source": [
    "print(df.loc[0])"
   ]
  },
  {
   "cell_type": "code",
   "execution_count": 41,
   "id": "9449b206-007b-43de-b231-e237d3c3eed3",
   "metadata": {},
   "outputs": [],
   "source": [
    "text=df['Tweet']\n"
   ]
  },
  {
   "cell_type": "code",
   "execution_count": 42,
   "id": "dd8e1ed0-2d35-4fc7-92f4-df446f77b7c6",
   "metadata": {},
   "outputs": [
    {
     "data": {
      "text/plain": [
       "0    Stacks' network usage was ⬆️ in Q4, resulting ...\n",
       "1    The crypto market is having a (majority) green...\n",
       "2    @KaddeXofficial @Bitcoin @ethereum @kadena_io ...\n",
       "3    The Blockchain evolution 💻\\n\\n2009 @bitcoin:\\n...\n",
       "4    Seems like the regulatory pendulum is about to...\n",
       "Name: Tweet, dtype: object"
      ]
     },
     "execution_count": 42,
     "metadata": {},
     "output_type": "execute_result"
    }
   ],
   "source": [
    "text.head(5)"
   ]
  },
  {
   "cell_type": "code",
   "execution_count": 43,
   "id": "b47cf542-a4f4-455f-9d1a-9e1c66c3c7f2",
   "metadata": {},
   "outputs": [
    {
     "data": {
      "text/plain": [
       "(1000,)"
      ]
     },
     "execution_count": 43,
     "metadata": {},
     "output_type": "execute_result"
    }
   ],
   "source": [
    "text.shape"
   ]
  },
  {
   "cell_type": "code",
   "execution_count": 44,
   "id": "584959fb-d35e-4402-8881-bffafc510a25",
   "metadata": {},
   "outputs": [
    {
     "name": "stdout",
     "output_type": "stream",
     "text": [
      "Stacks' network usage was ⬆️ in Q4, resulting in moar rev (STX fees) for Stacks miners\n",
      "\n",
      "2 new whitepapers were released: sBTC's \"trust-minimized\" 2-way @Bitcoin peg and the Nakamoto Release.\n",
      "\n",
      "What drove network activity, and why are the whitepapers a big deal?\n",
      "\n",
      "A🧵on @Stacks https://t.co/4JYBtTmCbZ\n"
     ]
    }
   ],
   "source": [
    "print(text[0])"
   ]
  },
  {
   "cell_type": "code",
   "execution_count": 45,
   "id": "467acc6e-4237-4d7a-be1a-c0798dd86f74",
   "metadata": {},
   "outputs": [
    {
     "name": "stdout",
     "output_type": "stream",
     "text": [
      "stacks' network usage was ⬆️ in q4, resulting in moar rev (stx fees) for stacks miners\n",
      "\n",
      "2 new whitepapers were released: sbtc's \"trust-minimized\" 2-way @bitcoin peg and the nakamoto release.\n",
      "\n",
      "what drove network activity, and why are the whitepapers a big deal?\n",
      "\n",
      "a🧵on @stacks https://t.co/4jybttmcbz\n"
     ]
    }
   ],
   "source": [
    "#Data transformation\n",
    "print(text[0].lower()) # mettre tout en minuscule"
   ]
  },
  {
   "cell_type": "code",
   "execution_count": 55,
   "id": "ade94426-36d9-4783-a20d-17b3f12e1c8a",
   "metadata": {},
   "outputs": [
    {
     "name": "stdout",
     "output_type": "stream",
     "text": [
      "STACKS' NETWORK USAGE WAS ⬆️ IN Q4, RESULTING IN MOAR REV (STX FEES) FOR STACKS MINERS\n",
      "\n",
      "2 NEW WHITEPAPERS WERE RELEASED: SBTC'S \"TRUST-MINIMIZED\" 2-WAY @BITCOIN PEG AND THE NAKAMOTO RELEASE.\n",
      "\n",
      "WHAT DROVE NETWORK ACTIVITY, AND WHY ARE THE WHITEPAPERS A BIG DEAL?\n",
      "\n",
      "A🧵ON @STACKS HTTPS://T.CO/4JYBTTMCBZ\n"
     ]
    }
   ],
   "source": [
    "print(text[0].upper()) # mettre tout en majuscule"
   ]
  },
  {
   "cell_type": "code",
   "execution_count": 56,
   "id": "d07bc9f3-08ae-4d3b-ae22-0962ceaf189f",
   "metadata": {},
   "outputs": [
    {
     "name": "stdout",
     "output_type": "stream",
     "text": [
      "[\"Stacks'\", 'network', 'usage', 'was', '⬆️', 'in', 'Q4,', 'resulting', 'in', 'moar', 'rev', '(STX', 'fees)', 'for', 'Stacks', 'miners', '2', 'new', 'whitepapers', 'were', 'released:', \"sBTC's\", '\"trust-minimized\"', '2-way', '@Bitcoin', 'peg', 'and', 'the', 'Nakamoto', 'Release.', 'What', 'drove', 'network', 'activity,', 'and', 'why', 'are', 'the', 'whitepapers', 'a', 'big', 'deal?', 'A🧵on', '@Stacks', 'https://t.co/4JYBtTmCbZ']\n"
     ]
    }
   ],
   "source": [
    "print(text[0].split()) #tokenisation"
   ]
  },
  {
   "cell_type": "code",
   "execution_count": 59,
   "id": "c24f8340-6c60-4063-aa4f-37d2481e3f7b",
   "metadata": {},
   "outputs": [
    {
     "data": {
      "text/plain": [
       "0      stacks' network usage was ⬆️ in q4, resulting ...\n",
       "1      the crypto market is having a (majority) green...\n",
       "2      @kaddexofficial @bitcoin @ethereum @kadena_io ...\n",
       "3      the blockchain evolution 💻\\n\\n2009 @bitcoin:\\n...\n",
       "4      seems like the regulatory pendulum is about to...\n",
       "                             ...                        \n",
       "995    updates on https://t.co/lrxsicv9as!\\n\\nwhat we...\n",
       "996    aspen digital trading on tzero under aspd for ...\n",
       "997    https://t.co/byaoli9zi9 @elevatedreturns @bitc...\n",
       "998    @lastcoinstandng @jeremyrubin @bitcoin it need...\n",
       "999    @lastcoinstandng @jeremyrubin @bitcoin he's a ...\n",
       "Name: Tweet, Length: 1000, dtype: object"
      ]
     },
     "execution_count": 59,
     "metadata": {},
     "output_type": "execute_result"
    }
   ],
   "source": [
    "#Make all words lowercase\n",
    "text.str.lower()"
   ]
  },
  {
   "cell_type": "code",
   "execution_count": 46,
   "id": "23fe9b76-6bf7-4a58-b7d1-b90f531dfa59",
   "metadata": {},
   "outputs": [
    {
     "data": {
      "text/plain": [
       "0      Stacks' network usage was ⬆️ in Q4, resulting ...\n",
       "1      The crypto market is having a (majority) green...\n",
       "2      @KaddeXofficial @Bitcoin @ethereum @kadena_io ...\n",
       "3      The Blockchain evolution 💻\\n\\n2009 @bitcoin:\\n...\n",
       "4      Seems like the regulatory pendulum is about to...\n",
       "                             ...                        \n",
       "995    Updates on https://t.co/LRXSiCv9as!\\n\\nWhat we...\n",
       "996    Aspen Digital trading on Tzero under ASPD for ...\n",
       "997    https://t.co/byaoli9zI9 @ElevatedReturns @Bitc...\n",
       "998    @LastCoinStandng @JeremyRubin @Bitcoin It need...\n",
       "999    @LastCoinStandng @JeremyRubin @Bitcoin He's a ...\n",
       "Name: Tweet, Length: 1000, dtype: object"
      ]
     },
     "execution_count": 46,
     "metadata": {},
     "output_type": "execute_result"
    }
   ],
   "source": [
    "#retirer les espaces pas nécessaires\n",
    "text.str.strip()"
   ]
  },
  {
   "cell_type": "code",
   "execution_count": 47,
   "id": "c6b84363-90c6-468a-86c5-4e2edbcdc001",
   "metadata": {},
   "outputs": [],
   "source": [
    "import numpy as np\n",
    "import regex as re\n",
    "from collections import Counter"
   ]
  },
  {
   "cell_type": "code",
   "execution_count": 48,
   "id": "5ae5b13d-bf72-4227-bd38-d5ca61629b3f",
   "metadata": {},
   "outputs": [
    {
     "data": {
      "text/plain": [
       "0      [stacks', network, usage, was, ⬆️, in, q4,, re...\n",
       "1      [the, crypto, market, is, having, a, (majority...\n",
       "2      [@kaddexofficial, @bitcoin, @ethereum, @kadena...\n",
       "3      [the, blockchain, evolution, 💻, 2009, @bitcoin...\n",
       "4      [seems, like, the, regulatory, pendulum, is, a...\n",
       "                             ...                        \n",
       "995    [updates, on, https://t.co/lrxsicv9as!, what, ...\n",
       "996    [aspen, digital, trading, on, tzero, under, as...\n",
       "997    [https://t.co/byaoli9zi9, @elevatedreturns, @b...\n",
       "998    [@lastcoinstandng, @jeremyrubin, @bitcoin, it,...\n",
       "999    [@lastcoinstandng, @jeremyrubin, @bitcoin, he'...\n",
       "Name: Tweet, Length: 1000, dtype: object"
      ]
     },
     "execution_count": 48,
     "metadata": {},
     "output_type": "execute_result"
    }
   ],
   "source": [
    "text.apply(lambda x:str(x.lower()).split())"
   ]
  },
  {
   "cell_type": "code",
   "execution_count": 49,
   "id": "0582252d-db04-49dd-8daa-b3dae735735a",
   "metadata": {
    "tags": []
   },
   "outputs": [
    {
     "data": {
      "text/plain": [
       "Counter({\"stacks'\": 1,\n",
       "         'network': 10,\n",
       "         'usage': 2,\n",
       "         'was': 55,\n",
       "         '⬆️': 4,\n",
       "         'in': 245,\n",
       "         'q4,': 1,\n",
       "         'resulting': 2,\n",
       "         'moar': 1,\n",
       "         'rev': 1,\n",
       "         '(stx': 1,\n",
       "         'fees)': 1,\n",
       "         'for': 207,\n",
       "         'stacks': 5,\n",
       "         'miners': 8,\n",
       "         '2': 7,\n",
       "         'new': 32,\n",
       "         'whitepapers': 2,\n",
       "         'were': 10,\n",
       "         'released:': 1,\n",
       "         \"sbtc's\": 1,\n",
       "         '\"trust-minimized\"': 1,\n",
       "         '2-way': 1,\n",
       "         '@bitcoin': 699,\n",
       "         'peg': 2,\n",
       "         'and': 348,\n",
       "         'the': 728,\n",
       "         'nakamoto': 5,\n",
       "         'release.': 1,\n",
       "         'what': 80,\n",
       "         'drove': 1,\n",
       "         'activity,': 1,\n",
       "         'why': 25,\n",
       "         'are': 113,\n",
       "         'a': 313,\n",
       "         'big': 22,\n",
       "         'deal?': 1,\n",
       "         'a🧵on': 1,\n",
       "         '@stacks': 18,\n",
       "         'https://t.co/4jybttmcbz': 1,\n",
       "         'crypto': 51,\n",
       "         'market': 25,\n",
       "         'is': 368,\n",
       "         'having': 8,\n",
       "         '(majority)': 1,\n",
       "         'green': 6,\n",
       "         'day': 16,\n",
       "         'so': 44,\n",
       "         'far,': 2,\n",
       "         'with': 105,\n",
       "         'again': 10,\n",
       "         'sitting': 6,\n",
       "         'above': 7,\n",
       "         '$23k': 2,\n",
       "         'mark.': 3,\n",
       "         '$btc:': 2,\n",
       "         '+2.12%,': 1,\n",
       "         '$23,039': 1,\n",
       "         '$eth:': 1,\n",
       "         '+3.17%,': 1,\n",
       "         '$1,596': 1,\n",
       "         '$bnb:': 1,\n",
       "         '+1.13%,': 1,\n",
       "         '$304.35': 1,\n",
       "         '$ada:': 1,\n",
       "         '+6.14%,': 1,\n",
       "         '$0.38': 1,\n",
       "         '$sol:': 1,\n",
       "         '+4.7%,': 1,\n",
       "         '$24.46': 1,\n",
       "         'https://t.co/gjo0ypcmey': 1,\n",
       "         'https://t.co/ey8l93s9hw': 1,\n",
       "         '@kaddexofficial': 1,\n",
       "         '@ethereum': 189,\n",
       "         '@kadena_io': 2,\n",
       "         'now': 54,\n",
       "         'compare': 5,\n",
       "         '$eth': 24,\n",
       "         '$kda': 2,\n",
       "         'cap.': 1,\n",
       "         'https://t.co/1jedyprocu': 1,\n",
       "         'blockchain': 17,\n",
       "         'evolution': 2,\n",
       "         '💻': 1,\n",
       "         '2009': 2,\n",
       "         '@bitcoin:': 4,\n",
       "         'first': 29,\n",
       "         'decentralized': 12,\n",
       "         'digital': 18,\n",
       "         'currency': 4,\n",
       "         '2015': 1,\n",
       "         '@ethereum:': 3,\n",
       "         'smart': 13,\n",
       "         'contract': 8,\n",
       "         'architecture': 1,\n",
       "         '2019': 3,\n",
       "         '@kadena_io:': 1,\n",
       "         'infinitely': 2,\n",
       "         'scalable': 3,\n",
       "         '$kdx': 1,\n",
       "         '#kadenaeco': 1,\n",
       "         'https://t.co/fk0cokqgzl': 1,\n",
       "         'seems': 5,\n",
       "         'like': 66,\n",
       "         'regulatory': 1,\n",
       "         'pendulum': 1,\n",
       "         'about': 42,\n",
       "         'to': 442,\n",
       "         'swing': 1,\n",
       "         'sharply': 1,\n",
       "         'other': 21,\n",
       "         'way': 17,\n",
       "         '\\u2066@elevatedreturns\\u2069': 1,\n",
       "         '\\u2066@tezos\\u2069': 1,\n",
       "         '\\u2066@defipulse\\u2069': 1,\n",
       "         '\\u2066@bitcoin\\u2069': 2,\n",
       "         'https://t.co/tc0frgg85m': 1,\n",
       "         'back': 24,\n",
       "         'trades.': 1,\n",
       "         'its': 23,\n",
       "         'over': 28,\n",
       "         '23k': 1,\n",
       "         'up': 39,\n",
       "         '6k': 1,\n",
       "         '$wulf': 13,\n",
       "         'naked': 10,\n",
       "         'shorted': 2,\n",
       "         'by': 61,\n",
       "         'yorkville': 8,\n",
       "         'how': 53,\n",
       "         'not': 85,\n",
       "         'sure': 4,\n",
       "         'i': 105,\n",
       "         'dont': 3,\n",
       "         'have': 79,\n",
       "         'data.': 1,\n",
       "         'they': 60,\n",
       "         'top': 34,\n",
       "         '3': 11,\n",
       "         'scumbag': 1,\n",
       "         'on': 152,\n",
       "         'street': 4,\n",
       "         'debt': 11,\n",
       "         'paid': 11,\n",
       "         'off': 7,\n",
       "         'only': 23,\n",
       "         'cover': 2,\n",
       "         'buy': 21,\n",
       "         'all': 57,\n",
       "         'their': 30,\n",
       "         'shares': 2,\n",
       "         'sold': 5,\n",
       "         'we': 51,\n",
       "         'know': 19,\n",
       "         'btw': 1,\n",
       "         'enjoy': 3,\n",
       "         'truck': 1,\n",
       "         '💡découvrez': 1,\n",
       "         'le': 7,\n",
       "         '5': 13,\n",
       "         'des': 2,\n",
       "         '#cryptomonnaies': 2,\n",
       "         'les': 5,\n",
       "         'plus': 3,\n",
       "         'recherchées': 2,\n",
       "         'sur': 3,\n",
       "         'coinex': 4,\n",
       "         '19/01/2023': 1,\n",
       "         '1️⃣': 3,\n",
       "         '$apt': 1,\n",
       "         '@aptos_network': 2,\n",
       "         '2️⃣': 3,\n",
       "         '$dydx': 1,\n",
       "         '@dydx': 2,\n",
       "         '3️⃣': 3,\n",
       "         '#babydoge': 7,\n",
       "         '@babydogecoin': 10,\n",
       "         '4️⃣': 5,\n",
       "         '$btc': 43,\n",
       "         '5️⃣': 5,\n",
       "         '$bonk': 2,\n",
       "         '@bonk_inu': 2,\n",
       "         'source': 5,\n",
       "         '👉': 3,\n",
       "         'https://t.co/3bkmrxhxid': 1,\n",
       "         '#coinex': 4,\n",
       "         '#cryptosphère': 2,\n",
       "         '#crypto': 32,\n",
       "         '#cryptotrading': 2,\n",
       "         'https://t.co/krnauvth2t': 1,\n",
       "         '0.468': 1,\n",
       "         'out': 37,\n",
       "         '8.8m': 1,\n",
       "         '@safemoon': 6,\n",
       "         '2010': 1,\n",
       "         '@grovetoken': 9,\n",
       "         'come': 9,\n",
       "         'join': 3,\n",
       "         '#interestbsc': 2,\n",
       "         'watch': 8,\n",
       "         'your': 87,\n",
       "         'wallet': 8,\n",
       "         'grow': 2,\n",
       "         'favourite': 1,\n",
       "         'tokens': 9,\n",
       "         'get': 21,\n",
       "         'involved': 1,\n",
       "         '&amp;': 42,\n",
       "         '230': 1,\n",
       "         'holders': 5,\n",
       "         'earning': 2,\n",
       "         'passive': 2,\n",
       "         'income': 4,\n",
       "         'every': 7,\n",
       "         'single': 5,\n",
       "         'automatically': 1,\n",
       "         'https://t.co/ttf2ghhbrr': 1,\n",
       "         'commodity': 2,\n",
       "         'super': 7,\n",
       "         'cycle': 2,\n",
       "         'resume': 1,\n",
       "         '.': 24,\n",
       "         'good': 19,\n",
       "         'interest': 4,\n",
       "         'rates': 3,\n",
       "         'stocks.': 1,\n",
       "         'if': 50,\n",
       "         'btc': 17,\n",
       "         '@elevatedreturns': 47,\n",
       "         '@tzero': 19,\n",
       "         '@aspen_digital': 9,\n",
       "         '@tezos': 39,\n",
       "         'my': 42,\n",
       "         'players': 9,\n",
       "         'say': 6,\n",
       "         'next': 24,\n",
       "         'run': 11,\n",
       "         '$25-28k.': 1,\n",
       "         '$35k.': 1,\n",
       "         'fast': 5,\n",
       "         '$riot': 5,\n",
       "         '$mara': 4,\n",
       "         'make': 14,\n",
       "         '$': 2,\n",
       "         'of': 307,\n",
       "         'do': 38,\n",
       "         'homework': 2,\n",
       "         '1⃣': 1,\n",
       "         'chains,': 1,\n",
       "         'which': 32,\n",
       "         'manages': 1,\n",
       "         'native': 10,\n",
       "         'assets': 24,\n",
       "         'everywhere': 2,\n",
       "         '(even': 1,\n",
       "         '@bitcoin),': 1,\n",
       "         'has': 68,\n",
       "         'simpler': 1,\n",
       "         'security': 5,\n",
       "         'profile': 1,\n",
       "         '(one': 1,\n",
       "         'deployment': 1,\n",
       "         'less': 9,\n",
       "         'code': 3,\n",
       "         'zetachain),': 1,\n",
       "         'involves': 2,\n",
       "         'fewer': 1,\n",
       "         'state': 6,\n",
       "         'changes': 1,\n",
       "         'txs.': 1,\n",
       "         'https://t.co/pydukm7wms': 1,\n",
       "         'you': 195,\n",
       "         'can': 46,\n",
       "         'locate': 1,\n",
       "         '🐝': 3,\n",
       "         'network.': 8,\n",
       "         'remember,': 4,\n",
       "         'u': 6,\n",
       "         'can🐝': 1,\n",
       "         'https://t.co/6zbsy6bdge': 1,\n",
       "         'van': 1,\n",
       "         'welke': 2,\n",
       "         'coin(s)': 1,\n",
       "         'ben': 2,\n",
       "         'jij': 1,\n",
       "         'fan?': 1,\n",
       "         'laat': 1,\n",
       "         'ons': 2,\n",
       "         'weten': 1,\n",
       "         'wij': 1,\n",
       "         'moeten': 1,\n",
       "         'volgen': 1,\n",
       "         'voor': 1,\n",
       "         'platform.': 2,\n",
       "         'voorbeeld:': 1,\n",
       "         '@wearecoinfan': 1,\n",
       "         '#bitcoin': 93,\n",
       "         '#btc': 37,\n",
       "         'https://t.co/klnfvcpicx': 1,\n",
       "         '#qnt': 3,\n",
       "         'doing': 9,\n",
       "         'same': 15,\n",
       "         'thing': 5,\n",
       "         'it': 137,\n",
       "         'did': 21,\n",
       "         'months': 2,\n",
       "         'ago': 9,\n",
       "         'when': 35,\n",
       "         'everything': 9,\n",
       "         'bleeding': 1,\n",
       "         'retracing': 1,\n",
       "         'pumped': 3,\n",
       "         'from': 58,\n",
       "         '$80': 1,\n",
       "         '$230': 1,\n",
       "         'lmfao.': 1,\n",
       "         'this': 155,\n",
       "         'coin': 12,\n",
       "         'gem': 2,\n",
       "         'rather': 5,\n",
       "         'hold': 9,\n",
       "         'any': 10,\n",
       "         'day.': 3,\n",
       "         'love': 10,\n",
       "         '#xrp': 8,\n",
       "         'but': 46,\n",
       "         'man': 4,\n",
       "         'owning': 1,\n",
       "         'hits': 1,\n",
       "         'different.': 1,\n",
       "         'i’m': 10,\n",
       "         'dude': 5,\n",
       "         'that': 140,\n",
       "         'holds': 3,\n",
       "         '20,000': 1,\n",
       "         'he': 13,\n",
       "         'bought': 9,\n",
       "         '2016.': 1,\n",
       "         'wtf': 4,\n",
       "         'will': 98,\n",
       "         'us': 22,\n",
       "         'central': 4,\n",
       "         'bank': 5,\n",
       "         'cbdc.': 1,\n",
       "         'nuclear': 1,\n",
       "         'energy': 18,\n",
       "         '$oil.': 1,\n",
       "         'institutional': 2,\n",
       "         'slavers.': 1,\n",
       "         'gold.': 1,\n",
       "         'ignore': 1,\n",
       "         '@jimcramer': 2,\n",
       "         'buying': 7,\n",
       "         'actual': 3,\n",
       "         '$gold.': 1,\n",
       "         'where': 13,\n",
       "         'community': 8,\n",
       "         'drives': 1,\n",
       "         'support.': 1,\n",
       "         'something,': 2,\n",
       "         'fireworks': 1,\n",
       "         '🎇': 1,\n",
       "         'just': 49,\n",
       "         'joined': 1,\n",
       "         '@bigmarh': 1,\n",
       "         '‘s': 1,\n",
       "         'space': 6,\n",
       "         'literally': 6,\n",
       "         'got': 11,\n",
       "         'some': 21,\n",
       "         'free': 6,\n",
       "         'through': 7,\n",
       "         '@cashapp': 1,\n",
       "         'intention': 1,\n",
       "         'meditation': 1,\n",
       "         'morning': 2,\n",
       "         'financial': 16,\n",
       "         'freedom🥹': 1,\n",
       "         '$qnt': 36,\n",
       "         'lovely': 3,\n",
       "         'candle!': 1,\n",
       "         '🚀': 11,\n",
       "         'cbdc’s,': 1,\n",
       "         'national': 2,\n",
       "         'currencies!': 1,\n",
       "         'working': 7,\n",
       "         'banks': 4,\n",
       "         '🏦': 1,\n",
       "         'governments': 1,\n",
       "         'major': 4,\n",
       "         'enterprise!': 1,\n",
       "         'more': 55,\n",
       "         'scarce': 2,\n",
       "         'than': 29,\n",
       "         '\\u2066@quant_network\\u2069': 3,\n",
       "         '\\u2066@quantoverledger\\u2069': 3,\n",
       "         '\\u2066@ethereum\\u2069': 2,\n",
       "         '\\u2066@ripple\\u2069': 1,\n",
       "         '\\u2066@newsqnt\\u2069': 1,\n",
       "         '\\u2066@wsj\\u2069': 2,\n",
       "         'https://t.co/winki7lbgz': 1,\n",
       "         '@cardano_whale': 1,\n",
       "         '@cardano': 12,\n",
       "         '@solana': 43,\n",
       "         '@chainlink': 5,\n",
       "         '@dogecoin': 29,\n",
       "         '@cosmos': 8,\n",
       "         'tbh': 1,\n",
       "         'best': 10,\n",
       "         'prove': 4,\n",
       "         'this,': 2,\n",
       "         'leave': 1,\n",
       "         'strong': 5,\n",
       "         'list': 3,\n",
       "         'tell': 3,\n",
       "         'people': 23,\n",
       "         'look': 15,\n",
       "         'at': 66,\n",
       "         'comments': 2,\n",
       "         '😂': 11,\n",
       "         '@alex_valaitis': 2,\n",
       "         'right': 11,\n",
       "         '@sssportz1': 1,\n",
       "         'fighting': 3,\n",
       "         'losing': 2,\n",
       "         'battle': 1,\n",
       "         'maxi': 2,\n",
       "         'brother': 1,\n",
       "         'christ,': 1,\n",
       "         'keep': 11,\n",
       "         'lol': 7,\n",
       "         '@cryptogenerian': 2,\n",
       "         'feel': 4,\n",
       "         'tweet': 12,\n",
       "         'go': 16,\n",
       "         'down': 15,\n",
       "         'history': 1,\n",
       "         'books': 1,\n",
       "         'sir.': 1,\n",
       "         'great': 9,\n",
       "         'one': 36,\n",
       "         'ripping': 1,\n",
       "         'also': 11,\n",
       "         'unchanged': 1,\n",
       "         '23,119.86+391.92': 1,\n",
       "         '(+1.72%)': 1,\n",
       "         '$17k': 2,\n",
       "         '$23k+': 1,\n",
       "         'doesnt': 1,\n",
       "         'move?': 1,\n",
       "         'short': 18,\n",
       "         'selling': 4,\n",
       "         'down.': 2,\n",
       "         'cant': 4,\n",
       "         'stop': 15,\n",
       "         'bitcoin': 67,\n",
       "         '#saitama': 9,\n",
       "         'moves': 3,\n",
       "         'utilities': 1,\n",
       "         'launched': 1,\n",
       "         'there': 27,\n",
       "         'many.': 1,\n",
       "         'move': 10,\n",
       "         'does': 16,\n",
       "         'listed': 1,\n",
       "         'tier': 2,\n",
       "         'exchanges.': 3,\n",
       "         'many': 10,\n",
       "         \"don't\": 18,\n",
       "         'enough': 6,\n",
       "         'invest': 2,\n",
       "         'life': 8,\n",
       "         'changing': 2,\n",
       "         'return': 2,\n",
       "         '$1000': 1,\n",
       "         'could': 10,\n",
       "         'change': 8,\n",
       "         '$kas': 2,\n",
       "         '$kaspa': 1,\n",
       "         'well': 14,\n",
       "         'now..': 2,\n",
       "         'trilemma': 1,\n",
       "         'solved,': 1,\n",
       "         'fair': 1,\n",
       "         'launch,': 1,\n",
       "         'no': 41,\n",
       "         'ico,': 1,\n",
       "         'low': 2,\n",
       "         'gas,': 1,\n",
       "         'total': 7,\n",
       "         'supply': 9,\n",
       "         '(as': 1,\n",
       "         'explained': 1,\n",
       "         '@desheshai).': 1,\n",
       "         'mined': 3,\n",
       "         'very': 16,\n",
       "         'block': 11,\n",
       "         'january': 2,\n",
       "         '8,': 1,\n",
       "         '2009.': 1,\n",
       "         'since': 13,\n",
       "         'then,': 1,\n",
       "         'found': 2,\n",
       "         '1': 19,\n",
       "         '10': 15,\n",
       "         'minutes': 2,\n",
       "         '(avg.)': 1,\n",
       "         '733,322.': 1,\n",
       "         'full': 3,\n",
       "         'speed': 2,\n",
       "         '(32bps),': 1,\n",
       "         'take': 8,\n",
       "         '6.5': 2,\n",
       "         'hours': 2,\n",
       "         'mine': 4,\n",
       "         '733,322': 1,\n",
       "         'blocks.': 1,\n",
       "         '13': 1,\n",
       "         'years...': 1,\n",
       "         'hours.': 1,\n",
       "         'hmmm...': 1,\n",
       "         'strongest': 1,\n",
       "         'ecosystems': 3,\n",
       "         '(based': 1,\n",
       "         'purely': 1,\n",
       "         'twitter': 11,\n",
       "         'engagement)': 1,\n",
       "         '👇': 8,\n",
       "         '1)': 2,\n",
       "         '2)': 2,\n",
       "         '3)': 2,\n",
       "         '4)': 2,\n",
       "         '5)': 2,\n",
       "         '6)': 2,\n",
       "         '7)': 2,\n",
       "         'goes': 5,\n",
       "         'higher': 4,\n",
       "         'stock': 7,\n",
       "         'might': 3,\n",
       "         'be': 110,\n",
       "         'zero.': 1,\n",
       "         'shorts': 5,\n",
       "         'trapped': 5,\n",
       "         'here': 19,\n",
       "         'let': 10,\n",
       "         'penny': 1,\n",
       "         'sign': 3,\n",
       "         'trouble': 2,\n",
       "         '.@bitcoin': 1,\n",
       "         '1.09%': 1,\n",
       "         '$23,112.': 1,\n",
       "         'https://t.co/krayyqi68j': 1,\n",
       "         'https://t.co/utpjbnrvzz': 1,\n",
       "         'alguien': 1,\n",
       "         'que': 29,\n",
       "         'confirme': 1,\n",
       "         'si': 1,\n",
       "         '@chivowallet': 1,\n",
       "         'ya': 9,\n",
       "         'quebró': 1,\n",
       "         'western': 2,\n",
       "         'union,': 1,\n",
       "         'moneygram': 1,\n",
       "         'o': 6,\n",
       "         'ría': 1,\n",
       "         'envios': 1,\n",
       "         '?': 11,\n",
       "         '@bitcoinmagazine': 5,\n",
       "         '#ethereum': 5,\n",
       "         '#ethereumclassic': 1,\n",
       "         '#binance': 3,\n",
       "         '#bnb': 12,\n",
       "         '#busd': 2,\n",
       "         '#usdt': 1,\n",
       "         '#doge': 6,\n",
       "         '#luna': 1,\n",
       "         '#matic': 1,\n",
       "         '@btctn': 3,\n",
       "         '@binance': 33,\n",
       "         \"isn't\": 6,\n",
       "         'casino': 2,\n",
       "         'town,': 1,\n",
       "         \"it's\": 24,\n",
       "         '💰': 2,\n",
       "         '@lingardpessi': 1,\n",
       "         'time': 36,\n",
       "         'drained': 2,\n",
       "         'trying': 5,\n",
       "         'download': 2,\n",
       "         '“trust': 1,\n",
       "         'wallet”': 1,\n",
       "         'chrome': 1,\n",
       "         'extension.': 1,\n",
       "         'setting': 1,\n",
       "         'metamask,': 1,\n",
       "         'asked': 2,\n",
       "         'wanted': 2,\n",
       "         'import': 1,\n",
       "         'existing': 2,\n",
       "         'wallet.': 3,\n",
       "         'as': 76,\n",
       "         'soon': 4,\n",
       "         'entered': 1,\n",
       "         'seedphrase,': 1,\n",
       "         'funds': 5,\n",
       "         'dis': 1,\n",
       "         'tried': 3,\n",
       "         'attack': 2,\n",
       "         'reputation': 2,\n",
       "         'confusing': 1,\n",
       "         'me': 21,\n",
       "         'another': 11,\n",
       "         'john': 8,\n",
       "         'carvalho.': 1,\n",
       "         \"didn't\": 8,\n",
       "         'delete': 6,\n",
       "         'tweet,': 1,\n",
       "         'despite': 1,\n",
       "         'real': 19,\n",
       "         'confirming': 2,\n",
       "         'me.': 5,\n",
       "         'target': 2,\n",
       "         'anyway?!': 1,\n",
       "         'who': 32,\n",
       "         'runs': 4,\n",
       "         'account?!': 1,\n",
       "         'current': 4,\n",
       "         'dollar': 3,\n",
       "         'value': 7,\n",
       "         '#saitarealty': 8,\n",
       "         '#burn': 1,\n",
       "         '$23,497,125.00': 1,\n",
       "         'loading': 1,\n",
       "         '#daytrading': 1,\n",
       "         '👀': 9,\n",
       "         '🔥': 10,\n",
       "         '#cryptoinvestor': 1,\n",
       "         '#realestateinvesting': 1,\n",
       "         '@coinbase': 5,\n",
       "         '@binanceus': 2,\n",
       "         '@coinmarketcap': 7,\n",
       "         '@coindesk': 1,\n",
       "         '@coingecko': 4,\n",
       "         '@ins_realestate': 1,\n",
       "         '@investingcom': 1,\n",
       "         'https://t.co/k9ddsubhkx': 1,\n",
       "         'individual': 2,\n",
       "         'writing': 1,\n",
       "         'tweets': 6,\n",
       "         'account,': 5,\n",
       "         're:': 1,\n",
       "         'whom': 1,\n",
       "         'may': 7,\n",
       "         'concern:': 1,\n",
       "         'fuck': 2,\n",
       "         'wrong': 3,\n",
       "         'you?': 2,\n",
       "         'metaphoric': 1,\n",
       "         'image': 1,\n",
       "         'projecting': 1,\n",
       "         'opposite': 1,\n",
       "         'you’re': 7,\n",
       "         \"month's\": 1,\n",
       "         'perigee': 1,\n",
       "         'syzygy': 1,\n",
       "         'happens': 5,\n",
       "         'closest': 2,\n",
       "         'earth': 2,\n",
       "         'year': 13,\n",
       "         '992': 1,\n",
       "         'moon': 3,\n",
       "         \"won't\": 2,\n",
       "         'close': 4,\n",
       "         '345': 1,\n",
       "         'years.': 5,\n",
       "         'put': 3,\n",
       "         'together': 2,\n",
       "         '1,337': 1,\n",
       "         'https://t.co/dpenrlq2fz': 1,\n",
       "         'https://t.co/jihqebelm9': 1,\n",
       "         'handle': 10,\n",
       "         'bearish': 1,\n",
       "         'her:': 2,\n",
       "         '\"it\\'s': 1,\n",
       "         'this\"': 1,\n",
       "         'fishes': 1,\n",
       "         'eating': 2,\n",
       "         'small': 4,\n",
       "         'ones.': 1,\n",
       "         'that’s': 5,\n",
       "         'nice': 4,\n",
       "         'say:': 1,\n",
       "         'thanks,': 1,\n",
       "         'thanks.': 2,\n",
       "         'interested': 6,\n",
       "         'won': 1,\n",
       "         'fish': 1,\n",
       "         'or': 62,\n",
       "         'snake,': 1,\n",
       "         'price': 27,\n",
       "         'action.': 1,\n",
       "         '🫤': 1,\n",
       "         'https://t.co/zzvmcsjsp2': 1,\n",
       "         'those': 10,\n",
       "         'candles': 1,\n",
       "         'during': 16,\n",
       "         'bear': 9,\n",
       "         'rally.': 1,\n",
       "         'https://t.co/ocyno6qrk5': 1,\n",
       "         'vous': 2,\n",
       "         'en': 14,\n",
       "         'pensez': 1,\n",
       "         'quoi': 1,\n",
       "         'gars': 1,\n",
       "         '$core': 2,\n",
       "         'est': 2,\n",
       "         'la': 26,\n",
       "         'renaissance': 1,\n",
       "         'du': 4,\n",
       "         '2.0': 2,\n",
       "         '@coredao_org': 14,\n",
       "         '@coredao_devs': 2,\n",
       "         '@bscnews': 1,\n",
       "         'similar.': 1,\n",
       "         'both': 4,\n",
       "         'anonymous.': 1,\n",
       "         'fully': 3,\n",
       "         'decentralised': 3,\n",
       "         'secure.': 1,\n",
       "         '🤝': 3,\n",
       "         'our': 27,\n",
       "         'ecosystem': 4,\n",
       "         'focused': 2,\n",
       "         'rewarding': 2,\n",
       "         'high': 6,\n",
       "         'returns.': 1,\n",
       "         '@interestbsc': 2,\n",
       "         'pays': 3,\n",
       "         '@safemoon,': 1,\n",
       "         '@compoundedtoken': 1,\n",
       "         '$busd': 2,\n",
       "         '-': 53,\n",
       "         'stable': 4,\n",
       "         'backed': 4,\n",
       "         '1/1': 1,\n",
       "         'usd.': 3,\n",
       "         '@formulabsc': 1,\n",
       "         '#compounded': 1,\n",
       "         'https://t.co/exofuk0dxl': 1,\n",
       "         '@corechaincrypto': 1,\n",
       "         'heart': 2,\n",
       "         'cryptocurrencies.': 1,\n",
       "         'crowned': 1,\n",
       "         'king': 3,\n",
       "         '@core': 1,\n",
       "         'complete': 2,\n",
       "         'version': 1,\n",
       "         '😉': 2,\n",
       "         'boss': 1,\n",
       "         '@nadeem6321': 1,\n",
       "         'newyork': 1,\n",
       "         'city': 1,\n",
       "         '🌃': 2,\n",
       "         'pleasure': 1,\n",
       "         'meeting': 1,\n",
       "         '@sylo': 1,\n",
       "         '$labs': 1,\n",
       "         '@abubakr485': 1,\n",
       "         '@rudekhan4ever': 1,\n",
       "         '@chazeemgujjar14': 1,\n",
       "         '@malik_farooq_01': 1,\n",
       "         'https://t.co/hu7dexnkmb': 1,\n",
       "         'looks': 12,\n",
       "         'bullish': 6,\n",
       "         'wave': 2,\n",
       "         'finally': 4,\n",
       "         'intervened': 1,\n",
       "         '(@bitcoin)': 1,\n",
       "         'crossing': 1,\n",
       "         '$21k': 3,\n",
       "         'mark!🤯': 1,\n",
       "         'think': 19,\n",
       "         'peak': 2,\n",
       "         'end': 8,\n",
       "         'month?': 1,\n",
       "         '👇🏻': 1,\n",
       "         '@mmcrypto': 1,\n",
       "         'needed': 4,\n",
       "         '@pixlwizardsnft': 1,\n",
       "         'oracle': 1,\n",
       "         'give': 3,\n",
       "         'live': 9,\n",
       "         'updates': 4,\n",
       "         '❤️❤️': 1,\n",
       "         'most': 23,\n",
       "         'useful': 3,\n",
       "         'nft': 7,\n",
       "         'https://t.co/skzmba26zr': 1,\n",
       "         '@xverseapp': 3,\n",
       "         'connect': 1,\n",
       "         '#stacks': 1,\n",
       "         'dapps,': 1,\n",
       "         'check': 17,\n",
       "         '#nfts,': 1,\n",
       "         'stake': 5,\n",
       "         '$stx': 1,\n",
       "         'earn': 5,\n",
       "         '$btc.': 2,\n",
       "         'https://t.co/ntm00cjsfw': 1,\n",
       "         'lottery': 1,\n",
       "         'ticket': 1,\n",
       "         'today.': 4,\n",
       "         '🍀if': 1,\n",
       "         'win': 4,\n",
       "         'jackpot,': 1,\n",
       "         'should': 32,\n",
       "         'winnings?': 1,\n",
       "         '🎰': 1,\n",
       "         '@mgxs_gnss': 1,\n",
       "         '@rebelsbynight': 1,\n",
       "         'https://t.co/rqcjyth0hl': 1,\n",
       "         '@paeglis': 1,\n",
       "         '@evergrowcoinegc': 3,\n",
       "         '@lucrotoken': 3,\n",
       "         'would': 32,\n",
       "         'that!': 2,\n",
       "         'bears': 1,\n",
       "         'bulls': 1,\n",
       "         'still': 13,\n",
       "         'broke': 2,\n",
       "         'bro': 3,\n",
       "         'https://t.co/24pqquymkq': 1,\n",
       "         'scared': 1,\n",
       "         'now.': 4,\n",
       "         'friends': 4,\n",
       "         'liquidated.': 1,\n",
       "         'https://t.co/ffmuptf1qc': 1,\n",
       "         '$23,000.': 1,\n",
       "         '#pinetwotk': 1,\n",
       "         'dominate': 1,\n",
       "         '#cryptomarket': 4,\n",
       "         'open': 7,\n",
       "         'mainnet?': 1,\n",
       "         '#picommunity': 2,\n",
       "         '#eth': 12,\n",
       "         '#cryptocurrency': 9,\n",
       "         '#nft': 4,\n",
       "         '@picoreteam': 9,\n",
       "         'likely': 2,\n",
       "         'reason': 8,\n",
       "         'recent': 4,\n",
       "         'pump.': 1,\n",
       "         'thanks': 5,\n",
       "         '😂😂😂': 2,\n",
       "         '#cryptonews': 5,\n",
       "         '#bitcoinprice': 1,\n",
       "         'https://t.co/1imgwzz2d3': 1,\n",
       "         'hope': 7,\n",
       "         'lose': 4,\n",
       "         'billions': 1,\n",
       "         'belong': 2,\n",
       "         'jail': 1,\n",
       "         'crossed': 1,\n",
       "         '$23,001.38+1,888.76': 1,\n",
       "         '(+8.95%)': 1,\n",
       "         '$1': 2,\n",
       "         '$23k.': 1,\n",
       "         '90': 3,\n",
       "         'cents': 1,\n",
       "         'name': 7,\n",
       "         'these': 14,\n",
       "         'besides': 1,\n",
       "         'making': 6,\n",
       "         'money': 20,\n",
       "         'huge': 3,\n",
       "         'squeeze': 2,\n",
       "         '@cvpayne': 1,\n",
       "         '@secgov': 26,\n",
       "         '@lisabraganca': 1,\n",
       "         '@garygensler': 26,\n",
       "         '@gurbirgrewalnj': 1,\n",
       "         '@dutchspacex': 9,\n",
       "         '@cryptocom': 27,\n",
       "         '@five_token': 11,\n",
       "         'five': 7,\n",
       "         'token': 17,\n",
       "         'bft': 3,\n",
       "         '#bft': 3,\n",
       "         '#nftmarketplace': 1,\n",
       "         'https://t.co/bb9whxt8xo': 1,\n",
       "         'definitely': 1,\n",
       "         'https://t.co/cvdelvp8af': 1,\n",
       "         '🚀🚀🚀': 3,\n",
       "         'people.': 4,\n",
       "         'choice.': 1,\n",
       "         '#big': 1,\n",
       "         'token!': 1,\n",
       "         'only,': 1,\n",
       "         'ahooooooooooiiiiiii!': 1,\n",
       "         'choice': 1,\n",
       "         'largest': 6,\n",
       "         'bag': 5,\n",
       "         '#btcusd': 1,\n",
       "         '#egc': 1,\n",
       "         '#sfm': 1,\n",
       "         '#grv': 1,\n",
       "         '#lcr': 1,\n",
       "         '$egc': 1,\n",
       "         '$lcr': 1,\n",
       "         '$grv': 1,\n",
       "         '$sfm': 1,\n",
       "         '$bnb': 10,\n",
       "         '✅✅✅': 1,\n",
       "         'token(bft)': 1,\n",
       "         'bullrun': 2,\n",
       "         'started🟩🟩': 1,\n",
       "         '#memecoins': 1,\n",
       "         '|': 24,\n",
       "         '#altcoins': 1,\n",
       "         'legendary': 1,\n",
       "         'project': 3,\n",
       "         'reach': 4,\n",
       "         'ath': 6,\n",
       "         '#bullrun?': 1,\n",
       "         '💰:': 1,\n",
       "         '#cro': 8,\n",
       "         '|#bft': 1,\n",
       "         '#solana': 1,\n",
       "         'need': 21,\n",
       "         'add': 2,\n",
       "         'anything': 2,\n",
       "         'else': 4,\n",
       "         '💰?___': 1,\n",
       "         '#shill': 1,\n",
       "         'me👀': 1,\n",
       "         'https://t.co/da8z1die5k': 1,\n",
       "         'identity,': 1,\n",
       "         'robust': 1,\n",
       "         'start': 14,\n",
       "         'created': 8,\n",
       "         'silence': 1,\n",
       "         '!': 6,\n",
       "         '⚡🔐👑✅🛡️🧡': 1,\n",
       "         'https://t.co/ixdwwb2cln': 1,\n",
       "         'thank': 7,\n",
       "         'chart.': 1,\n",
       "         'getting': 10,\n",
       "         'info': 2,\n",
       "         'straight': 3,\n",
       "         'comforting': 1,\n",
       "         'oh': 2,\n",
       "         'yeah': 1,\n",
       "         '🚀⚡!': 1,\n",
       "         '🐻': 1,\n",
       "         'https://t.co/ccoqzfinsq': 1,\n",
       "         'fomo': 1,\n",
       "         'hell': 3,\n",
       "         'drug': 1,\n",
       "         '👏': 3,\n",
       "         '$2300': 1,\n",
       "         '🍣': 1,\n",
       "         '🍱': 1,\n",
       "         '😁': 3,\n",
       "         '$22,600.': 1,\n",
       "         'hace': 3,\n",
       "         'años,': 2,\n",
       "         'todo': 4,\n",
       "         'esto': 2,\n",
       "         'existía:': 1,\n",
       "         '@alexa99': 1,\n",
       "         'de': 34,\n",
       "         '@amazon': 1,\n",
       "         '@google': 1,\n",
       "         'home': 4,\n",
       "         'las': 4,\n",
       "         '(@bitcoin': 1,\n",
       "         'sí)': 1,\n",
       "         '@tiktok_us': 1,\n",
       "         '@apple': 1,\n",
       "         '@rafaelnadal': 1,\n",
       "         'solo': 1,\n",
       "         'tenia': 1,\n",
       "         '7': 4,\n",
       "         '@rolandgarros': 1,\n",
       "         'nacía': 1,\n",
       "         '@lanzaderaes': 1,\n",
       "         'mano': 1,\n",
       "         'juan': 1,\n",
       "         'roig,': 1,\n",
       "         'liderado': 1,\n",
       "         'por': 12,\n",
       "         '@jimenezmarcoj': 1,\n",
       "         'pumping': 2,\n",
       "         'babyyyy': 1,\n",
       "         'https://t.co/8v5ufp8kir': 1,\n",
       "         'liftoffffff': 1,\n",
       "         'https://t.co/hrgxvg8d0w': 1,\n",
       "         'developers': 5,\n",
       "         'behind': 3,\n",
       "         '#bitcoincash': 2,\n",
       "         ...})"
      ]
     },
     "execution_count": 49,
     "metadata": {},
     "output_type": "execute_result"
    }
   ],
   "source": [
    "words = text.apply(lambda x:str(x.lower()).split())\n",
    "top=Counter([item for sublist in words for item in sublist])\n",
    "top"
   ]
  },
  {
   "cell_type": "code",
   "execution_count": 50,
   "id": "43b4d245-dd30-4ffe-b702-26f9bfd71d43",
   "metadata": {},
   "outputs": [
    {
     "data": {
      "text/plain": [
       "[('the', 728),\n",
       " ('@bitcoin', 699),\n",
       " ('to', 442),\n",
       " ('is', 368),\n",
       " ('and', 348),\n",
       " ('a', 313),\n",
       " ('of', 307),\n",
       " ('in', 245),\n",
       " ('for', 207),\n",
       " ('you', 195),\n",
       " ('@ethereum', 189),\n",
       " ('this', 155),\n",
       " ('on', 152),\n",
       " ('that', 140),\n",
       " ('it', 137),\n",
       " ('are', 113),\n",
       " ('be', 110),\n",
       " ('with', 105),\n",
       " ('i', 105),\n",
       " ('will', 98),\n",
       " ('#bitcoin', 93)]"
      ]
     },
     "execution_count": 50,
     "metadata": {},
     "output_type": "execute_result"
    }
   ],
   "source": [
    "top.most_common(21)"
   ]
  },
  {
   "cell_type": "code",
   "execution_count": 51,
   "id": "05114c63-908c-4fff-ad39-f81b8baa5e19",
   "metadata": {},
   "outputs": [],
   "source": [
    "# à vous de jouer : vous voyez bien que les mots les plus fréquent ne nous informent pas beaucoup sur la nature du texte.. \n",
    "#il s'agit d'articles, verbes, auxiliaires etc. trouvez donc une manière de les retirer de la liste\n",
    "#afin d'afficher des mots plus saillants comme \"money\" ou \"interest\""
   ]
  },
  {
   "cell_type": "code",
   "execution_count": null,
   "id": "7832be5d-efdb-499c-a126-388b3adabc60",
   "metadata": {},
   "outputs": [],
   "source": []
  },
  {
   "cell_type": "code",
   "execution_count": null,
   "id": "b0ecadc1-c534-4da6-9131-32add072b844",
   "metadata": {},
   "outputs": [],
   "source": []
  }
 ],
 "metadata": {
  "kernelspec": {
   "display_name": "Python 3 (ipykernel)",
   "language": "python",
   "name": "python3"
  },
  "language_info": {
   "codemirror_mode": {
    "name": "ipython",
    "version": 3
   },
   "file_extension": ".py",
   "mimetype": "text/x-python",
   "name": "python",
   "nbconvert_exporter": "python",
   "pygments_lexer": "ipython3",
   "version": "3.12.3"
  }
 },
 "nbformat": 4,
 "nbformat_minor": 5
}
